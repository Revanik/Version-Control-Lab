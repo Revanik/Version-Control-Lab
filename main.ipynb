{
 "cells": [
  {
   "cell_type": "code",
   "execution_count": null,
   "id": "ce16bcf4-14c7-4767-a648-c24c2ecdebf3",
   "metadata": {},
   "outputs": [],
   "source": [
    "userInput = input(\"What is your name:\")"
   ]
  },
  {
   "cell_type": "code",
   "execution_count": null,
   "id": "949187cd-771e-4b73-a092-38b54f7dbc63",
   "metadata": {},
   "outputs": [],
   "source": [
    "numberInput = int(input(\"Enter your age:\"))"
   ]
  },
  {
   "cell_type": "code",
   "execution_count": null,
   "id": "184b88f0-e111-4a31-8f63-1f0ce3352450",
   "metadata": {},
   "outputs": [],
   "source": [
    "print(\"Hello \" + userInput + \" You are \" + str(numberInput) + \" Years old\")"
   ]
  }
 ],
 "metadata": {
  "kernelspec": {
   "display_name": "Python 3 (ipykernel)",
   "language": "python",
   "name": "python3"
  },
  "language_info": {
   "codemirror_mode": {
    "name": "ipython",
    "version": 3
   },
   "file_extension": ".py",
   "mimetype": "text/x-python",
   "name": "python",
   "nbconvert_exporter": "python",
   "pygments_lexer": "ipython3",
   "version": "3.12.4"
  }
 },
 "nbformat": 4,
 "nbformat_minor": 5
}
